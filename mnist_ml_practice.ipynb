{
  "nbformat": 4,
  "nbformat_minor": 0,
  "metadata": {
    "colab": {
      "name": "mnist_ml_practice",
      "provenance": [],
      "collapsed_sections": [],
      "authorship_tag": "ABX9TyNdq2gZxQxG9yh7OYnmR/Hr",
      "include_colab_link": true
    },
    "kernelspec": {
      "name": "python3",
      "display_name": "Python 3"
    }
  },
  "cells": [
    {
      "cell_type": "markdown",
      "metadata": {
        "id": "view-in-github",
        "colab_type": "text"
      },
      "source": [
        "<a href=\"https://colab.research.google.com/github/vtkachuk4/ml_playground/blob/master/mnist_ml_practice.ipynb\" target=\"_parent\"><img src=\"https://colab.research.google.com/assets/colab-badge.svg\" alt=\"Open In Colab\"/></a>"
      ]
    },
    {
      "cell_type": "code",
      "metadata": {
        "id": "za94zlw7ATb1",
        "colab_type": "code",
        "outputId": "ad3d1345-f8d2-4c60-a7e6-b24d49d69267",
        "colab": {
          "base_uri": "https://localhost:8080/",
          "height": 51
        }
      },
      "source": [
        "import tensorflow as tf\n",
        "\n",
        "mnist = tf.keras.datasets.mnist\n",
        "\n",
        "(x_train, y_train), (x_test, y_test) = mnist.load_data()\n",
        "x_train, x_test = x_train / 255.0, x_test / 255.0"
      ],
      "execution_count": 0,
      "outputs": [
        {
          "output_type": "stream",
          "text": [
            "Downloading data from https://storage.googleapis.com/tensorflow/tf-keras-datasets/mnist.npz\n",
            "11493376/11490434 [==============================] - 0s 0us/step\n"
          ],
          "name": "stdout"
        }
      ]
    },
    {
      "cell_type": "code",
      "metadata": {
        "id": "g22wZK6yCwOl",
        "colab_type": "code",
        "outputId": "8d9e360f-1662-4327-f676-5d89688aee38",
        "colab": {
          "base_uri": "https://localhost:8080/",
          "height": 68
        }
      },
      "source": [
        "model = tf.keras.models.Sequential([\n",
        "  tf.keras.layers.Flatten(input_shape=(28, 28)),\n",
        "  tf.keras.layers.Dense(128, activation='relu'),\n",
        "  tf.keras.layers.Dropout(0.2),\n",
        "  tf.keras.layers.Dense(10)\n",
        "])\n",
        "\n",
        "predictions = model(x_train[:1]).numpy()\n",
        "predictions"
      ],
      "execution_count": 0,
      "outputs": [
        {
          "output_type": "execute_result",
          "data": {
            "text/plain": [
              "array([[-0.6176604 , -0.06260644,  0.19284573,  0.01235582, -0.24438938,\n",
              "        -0.01300609,  0.04452439,  0.5137119 , -0.3991286 ,  0.07235046]],\n",
              "      dtype=float32)"
            ]
          },
          "metadata": {
            "tags": []
          },
          "execution_count": 4
        }
      ]
    },
    {
      "cell_type": "code",
      "metadata": {
        "id": "K1PA7O0mDV4i",
        "colab_type": "code",
        "outputId": "488f8a97-6306-4471-8a48-4cabcac3e949",
        "colab": {
          "base_uri": "https://localhost:8080/",
          "height": 68
        }
      },
      "source": [
        "tf.nn.softmax(predictions).numpy()"
      ],
      "execution_count": 0,
      "outputs": [
        {
          "output_type": "execute_result",
          "data": {
            "text/plain": [
              "array([[0.05426308, 0.09452818, 0.12204016, 0.10188659, 0.07881592,\n",
              "        0.09933504, 0.10521742, 0.16821054, 0.06751676, 0.10818632]],\n",
              "      dtype=float32)"
            ]
          },
          "metadata": {
            "tags": []
          },
          "execution_count": 5
        }
      ]
    },
    {
      "cell_type": "code",
      "metadata": {
        "id": "9mPaufaADeH6",
        "colab_type": "code",
        "colab": {}
      },
      "source": [
        "loss_fn = tf.keras.losses.SparseCategoricalCrossentropy(from_logits=True)"
      ],
      "execution_count": 0,
      "outputs": []
    },
    {
      "cell_type": "code",
      "metadata": {
        "id": "6KK8aIUBDiGc",
        "colab_type": "code",
        "outputId": "bc970cbc-a019-493a-f4d1-aea2c7515618",
        "colab": {
          "base_uri": "https://localhost:8080/",
          "height": 34
        }
      },
      "source": [
        "loss_fn(y_train[:1], predictions).numpy()"
      ],
      "execution_count": 0,
      "outputs": [
        {
          "output_type": "execute_result",
          "data": {
            "text/plain": [
              "2.309257"
            ]
          },
          "metadata": {
            "tags": []
          },
          "execution_count": 8
        }
      ]
    },
    {
      "cell_type": "code",
      "metadata": {
        "id": "VI6H1xLgDmAl",
        "colab_type": "code",
        "colab": {}
      },
      "source": [
        "model.compile(optimizer='adam',\n",
        "              loss=loss_fn,\n",
        "              metrics=['accuracy'])"
      ],
      "execution_count": 0,
      "outputs": []
    },
    {
      "cell_type": "code",
      "metadata": {
        "id": "Nx04UUAYD01J",
        "colab_type": "code",
        "outputId": "56d2c4e3-6c13-44fc-ed95-e05061a05eb4",
        "colab": {
          "base_uri": "https://localhost:8080/",
          "height": 204
        }
      },
      "source": [
        "model.fit(x_train, y_train, epochs=5)"
      ],
      "execution_count": 0,
      "outputs": [
        {
          "output_type": "stream",
          "text": [
            "Epoch 1/5\n",
            "1875/1875 [==============================] - 3s 2ms/step - loss: 0.2943 - accuracy: 0.9157\n",
            "Epoch 2/5\n",
            "1875/1875 [==============================] - 3s 2ms/step - loss: 0.1457 - accuracy: 0.9563\n",
            "Epoch 3/5\n",
            "1875/1875 [==============================] - 3s 2ms/step - loss: 0.1105 - accuracy: 0.9664\n",
            "Epoch 4/5\n",
            "1875/1875 [==============================] - 3s 2ms/step - loss: 0.0907 - accuracy: 0.9723\n",
            "Epoch 5/5\n",
            "1875/1875 [==============================] - 3s 2ms/step - loss: 0.0752 - accuracy: 0.9763\n"
          ],
          "name": "stdout"
        },
        {
          "output_type": "execute_result",
          "data": {
            "text/plain": [
              "<tensorflow.python.keras.callbacks.History at 0x7fd6e3b656a0>"
            ]
          },
          "metadata": {
            "tags": []
          },
          "execution_count": 10
        }
      ]
    },
    {
      "cell_type": "code",
      "metadata": {
        "id": "ftKGrKroD-K1",
        "colab_type": "code",
        "outputId": "27cebc41-ed7e-457a-b646-27df1a58dba7",
        "colab": {
          "base_uri": "https://localhost:8080/",
          "height": 51
        }
      },
      "source": [
        "model.evaluate(x_test,  y_test, verbose=2)"
      ],
      "execution_count": 0,
      "outputs": [
        {
          "output_type": "stream",
          "text": [
            "313/313 - 0s - loss: 0.0824 - accuracy: 0.9743\n"
          ],
          "name": "stdout"
        },
        {
          "output_type": "execute_result",
          "data": {
            "text/plain": [
              "[0.0823555514216423, 0.9743000268936157]"
            ]
          },
          "metadata": {
            "tags": []
          },
          "execution_count": 11
        }
      ]
    },
    {
      "cell_type": "code",
      "metadata": {
        "id": "ZMhIYF5HEJQU",
        "colab_type": "code",
        "colab": {}
      },
      "source": [
        "probability_model = tf.keras.Sequential([\n",
        "  model,\n",
        "  tf.keras.layers.Softmax()\n",
        "])"
      ],
      "execution_count": 0,
      "outputs": []
    },
    {
      "cell_type": "code",
      "metadata": {
        "id": "z0WMWRD2ENFr",
        "colab_type": "code",
        "outputId": "36bf1670-23cf-4675-eef2-bb002336c489",
        "colab": {
          "base_uri": "https://localhost:8080/",
          "height": 289
        }
      },
      "source": [
        "probability_model(x_test[:5])"
      ],
      "execution_count": 0,
      "outputs": [
        {
          "output_type": "execute_result",
          "data": {
            "text/plain": [
              "<tf.Tensor: shape=(5, 10), dtype=float32, numpy=\n",
              "array([[2.72090173e-08, 7.31796790e-10, 1.43311527e-05, 2.80081604e-05,\n",
              "        1.77667617e-10, 5.28363557e-07, 2.54069574e-12, 9.99956489e-01,\n",
              "        7.57020118e-08, 6.58067165e-07],\n",
              "       [1.95117589e-09, 4.40244516e-03, 9.95518923e-01, 7.58399547e-05,\n",
              "        1.57492790e-18, 2.55747068e-06, 9.53118047e-08, 1.17681108e-11,\n",
              "        1.50553348e-07, 9.97449041e-18],\n",
              "       [4.96911639e-07, 9.98782694e-01, 1.04304614e-04, 2.97360275e-05,\n",
              "        1.96244036e-05, 1.98904891e-05, 5.57056810e-05, 7.03362282e-04,\n",
              "        2.83389294e-04, 8.08262769e-07],\n",
              "       [9.99962687e-01, 1.02940975e-10, 3.38504833e-05, 3.11038389e-10,\n",
              "        1.84822913e-08, 4.22788986e-07, 2.38976168e-06, 2.32807210e-07,\n",
              "        1.21659560e-09, 3.84250995e-07],\n",
              "       [4.58355316e-06, 1.55662316e-09, 7.86283238e-07, 1.96487662e-08,\n",
              "        9.99255836e-01, 1.68570210e-07, 1.39055519e-05, 3.17328631e-05,\n",
              "        1.40179949e-07, 6.92902307e-04]], dtype=float32)>"
            ]
          },
          "metadata": {
            "tags": []
          },
          "execution_count": 13
        }
      ]
    }
  ]
}